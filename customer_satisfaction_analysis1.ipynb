{
 "cells": [
  {
   "cell_type": "code",
   "execution_count": 194,
   "id": "0c13f0c8",
   "metadata": {},
   "outputs": [],
   "source": [
    "import numpy as np\n",
    "import pandas as pd\n",
    "import matplotlib.pyplot as plt\n",
    "import seaborn as sns\n",
    "import string\n",
    "import re\n",
    "import nltk\n",
    "from nltk.corpus import stopwords\n",
    "from nltk.tokenize import word_tokenize\n",
    "from nltk.stem import PorterStemmer\n",
    "from sklearn.model_selection import train_test_split\n",
    "from sklearn.linear_model import LogisticRegression\n",
    "from sklearn.metrics import accuracy_score, classification_report\n",
    "from gensim.models import FastText\n",
    "from gensim.utils import simple_preprocess\n",
    "from keras.utils.np_utils import to_categorical\n",
    "from keras.models import Sequential\n",
    "from keras.layers import Conv1D, GlobalMaxPooling1D, Dense, Embedding, Dropout\n",
    "from sklearn.preprocessing import LabelEncoder\n",
    "from keras.utils.np_utils import to_categorical \n",
    "from tensorflow.keras.optimizers import Adam\n",
    "from sklearn.metrics import confusion_matrix\n"
   ]
  },
  {
   "cell_type": "code",
   "execution_count": 158,
   "id": "b8dae342",
   "metadata": {},
   "outputs": [],
   "source": [
    "data=pd.read_csv('Reviews.csv')"
   ]
  },
  {
   "cell_type": "code",
   "execution_count": 159,
   "id": "3c6b9e42",
   "metadata": {},
   "outputs": [
    {
     "name": "stdout",
     "output_type": "stream",
     "text": [
      "shape:  (568454, 10)\n"
     ]
    }
   ],
   "source": [
    "print(\"shape: \",data.shape)"
   ]
  },
  {
   "cell_type": "code",
   "execution_count": 160,
   "id": "c40365f9",
   "metadata": {},
   "outputs": [
    {
     "data": {
      "text/html": [
       "<div>\n",
       "<style scoped>\n",
       "    .dataframe tbody tr th:only-of-type {\n",
       "        vertical-align: middle;\n",
       "    }\n",
       "\n",
       "    .dataframe tbody tr th {\n",
       "        vertical-align: top;\n",
       "    }\n",
       "\n",
       "    .dataframe thead th {\n",
       "        text-align: right;\n",
       "    }\n",
       "</style>\n",
       "<table border=\"1\" class=\"dataframe\">\n",
       "  <thead>\n",
       "    <tr style=\"text-align: right;\">\n",
       "      <th></th>\n",
       "      <th>Id</th>\n",
       "      <th>ProductId</th>\n",
       "      <th>UserId</th>\n",
       "      <th>ProfileName</th>\n",
       "      <th>HelpfulnessNumerator</th>\n",
       "      <th>HelpfulnessDenominator</th>\n",
       "      <th>Score</th>\n",
       "      <th>Time</th>\n",
       "      <th>Summary</th>\n",
       "      <th>Text</th>\n",
       "    </tr>\n",
       "  </thead>\n",
       "  <tbody>\n",
       "    <tr>\n",
       "      <th>0</th>\n",
       "      <td>1</td>\n",
       "      <td>B001E4KFG0</td>\n",
       "      <td>A3SGXH7AUHU8GW</td>\n",
       "      <td>delmartian</td>\n",
       "      <td>1</td>\n",
       "      <td>1</td>\n",
       "      <td>5</td>\n",
       "      <td>1303862400</td>\n",
       "      <td>Good Quality Dog Food</td>\n",
       "      <td>I have bought several of the Vitality canned d...</td>\n",
       "    </tr>\n",
       "    <tr>\n",
       "      <th>1</th>\n",
       "      <td>2</td>\n",
       "      <td>B00813GRG4</td>\n",
       "      <td>A1D87F6ZCVE5NK</td>\n",
       "      <td>dll pa</td>\n",
       "      <td>0</td>\n",
       "      <td>0</td>\n",
       "      <td>1</td>\n",
       "      <td>1346976000</td>\n",
       "      <td>Not as Advertised</td>\n",
       "      <td>Product arrived labeled as Jumbo Salted Peanut...</td>\n",
       "    </tr>\n",
       "    <tr>\n",
       "      <th>2</th>\n",
       "      <td>3</td>\n",
       "      <td>B000LQOCH0</td>\n",
       "      <td>ABXLMWJIXXAIN</td>\n",
       "      <td>Natalia Corres \"Natalia Corres\"</td>\n",
       "      <td>1</td>\n",
       "      <td>1</td>\n",
       "      <td>4</td>\n",
       "      <td>1219017600</td>\n",
       "      <td>\"Delight\" says it all</td>\n",
       "      <td>This is a confection that has been around a fe...</td>\n",
       "    </tr>\n",
       "    <tr>\n",
       "      <th>3</th>\n",
       "      <td>4</td>\n",
       "      <td>B000UA0QIQ</td>\n",
       "      <td>A395BORC6FGVXV</td>\n",
       "      <td>Karl</td>\n",
       "      <td>3</td>\n",
       "      <td>3</td>\n",
       "      <td>2</td>\n",
       "      <td>1307923200</td>\n",
       "      <td>Cough Medicine</td>\n",
       "      <td>If you are looking for the secret ingredient i...</td>\n",
       "    </tr>\n",
       "    <tr>\n",
       "      <th>4</th>\n",
       "      <td>5</td>\n",
       "      <td>B006K2ZZ7K</td>\n",
       "      <td>A1UQRSCLF8GW1T</td>\n",
       "      <td>Michael D. Bigham \"M. Wassir\"</td>\n",
       "      <td>0</td>\n",
       "      <td>0</td>\n",
       "      <td>5</td>\n",
       "      <td>1350777600</td>\n",
       "      <td>Great taffy</td>\n",
       "      <td>Great taffy at a great price.  There was a wid...</td>\n",
       "    </tr>\n",
       "  </tbody>\n",
       "</table>\n",
       "</div>"
      ],
      "text/plain": [
       "   Id   ProductId          UserId                      ProfileName  \\\n",
       "0   1  B001E4KFG0  A3SGXH7AUHU8GW                       delmartian   \n",
       "1   2  B00813GRG4  A1D87F6ZCVE5NK                           dll pa   \n",
       "2   3  B000LQOCH0   ABXLMWJIXXAIN  Natalia Corres \"Natalia Corres\"   \n",
       "3   4  B000UA0QIQ  A395BORC6FGVXV                             Karl   \n",
       "4   5  B006K2ZZ7K  A1UQRSCLF8GW1T    Michael D. Bigham \"M. Wassir\"   \n",
       "\n",
       "   HelpfulnessNumerator  HelpfulnessDenominator  Score        Time  \\\n",
       "0                     1                       1      5  1303862400   \n",
       "1                     0                       0      1  1346976000   \n",
       "2                     1                       1      4  1219017600   \n",
       "3                     3                       3      2  1307923200   \n",
       "4                     0                       0      5  1350777600   \n",
       "\n",
       "                 Summary                                               Text  \n",
       "0  Good Quality Dog Food  I have bought several of the Vitality canned d...  \n",
       "1      Not as Advertised  Product arrived labeled as Jumbo Salted Peanut...  \n",
       "2  \"Delight\" says it all  This is a confection that has been around a fe...  \n",
       "3         Cough Medicine  If you are looking for the secret ingredient i...  \n",
       "4            Great taffy  Great taffy at a great price.  There was a wid...  "
      ]
     },
     "execution_count": 160,
     "metadata": {},
     "output_type": "execute_result"
    }
   ],
   "source": [
    "data.head()"
   ]
  },
  {
   "cell_type": "code",
   "execution_count": 161,
   "id": "c5d05b78",
   "metadata": {},
   "outputs": [],
   "source": [
    "data=data[:50000]"
   ]
  },
  {
   "cell_type": "code",
   "execution_count": 162,
   "id": "03f20dff",
   "metadata": {},
   "outputs": [
    {
     "data": {
      "text/plain": [
       "Id                        0\n",
       "ProductId                 0\n",
       "UserId                    0\n",
       "ProfileName               3\n",
       "HelpfulnessNumerator      0\n",
       "HelpfulnessDenominator    0\n",
       "Score                     0\n",
       "Time                      0\n",
       "Summary                   2\n",
       "Text                      0\n",
       "dtype: int64"
      ]
     },
     "execution_count": 162,
     "metadata": {},
     "output_type": "execute_result"
    }
   ],
   "source": [
    "data.isnull().sum()"
   ]
  },
  {
   "cell_type": "code",
   "execution_count": 163,
   "id": "54ccbf62",
   "metadata": {},
   "outputs": [],
   "source": [
    "data.dropna(inplace=True)"
   ]
  },
  {
   "cell_type": "code",
   "execution_count": 164,
   "id": "02ff6af3",
   "metadata": {},
   "outputs": [
    {
     "data": {
      "text/plain": [
       "Id                        0\n",
       "ProductId                 0\n",
       "UserId                    0\n",
       "ProfileName               0\n",
       "HelpfulnessNumerator      0\n",
       "HelpfulnessDenominator    0\n",
       "Score                     0\n",
       "Time                      0\n",
       "Summary                   0\n",
       "Text                      0\n",
       "dtype: int64"
      ]
     },
     "execution_count": 164,
     "metadata": {},
     "output_type": "execute_result"
    }
   ],
   "source": [
    "data.isnull().sum()"
   ]
  },
  {
   "cell_type": "code",
   "execution_count": 165,
   "id": "576b2f20",
   "metadata": {},
   "outputs": [
    {
     "data": {
      "text/plain": [
       "5    31129\n",
       "4     7288\n",
       "1     4720\n",
       "3     4047\n",
       "2     2811\n",
       "Name: Score, dtype: int64"
      ]
     },
     "execution_count": 165,
     "metadata": {},
     "output_type": "execute_result"
    }
   ],
   "source": [
    "\n",
    "data['Score'].value_counts()"
   ]
  },
  {
   "cell_type": "code",
   "execution_count": 166,
   "id": "31c8b322",
   "metadata": {},
   "outputs": [
    {
     "data": {
      "image/png": "[encoded data removed]",
      "text/plain": [
       "<Figure size 432x288 with 1 Axes>"
      ]
     },
     "metadata": {
      "needs_background": "light"
     },
     "output_type": "display_data"
    }
   ],
   "source": [
    "sns.countplot(x=data['Score'])\n",
    "plt.grid()"
   ]
  },
  {
   "cell_type": "code",
   "execution_count": 167,
   "id": "8f7b79ea",
   "metadata": {},
   "outputs": [
    {
     "data": {
      "image/png": "[encoded data removed]",
      "text/plain": [
       "<Figure size 720x432 with 1 Axes>"
      ]
     },
     "metadata": {
      "needs_background": "light"
     },
     "output_type": "display_data"
    }
   ],
   "source": [
    "plt.figure(figsize=(10, 6))\n",
    "sns.violinplot(x='Score', data=data, inner=\"quartile\")\n",
    "plt.title('Distribution of Scores ')\n",
    "plt.show()"
   ]
  },
  {
   "cell_type": "code",
   "execution_count": null,
   "id": "7b2a775e",
   "metadata": {},
   "outputs": [],
   "source": [
    "\n",
    "\n",
    "\n"
   ]
  },
  {
   "cell_type": "code",
   "execution_count": 168,
   "id": "e15f59f1",
   "metadata": {},
   "outputs": [],
   "source": [
    "\n",
    "desired_samples_per_score = 10000\n",
    "balanced_subsets = []\n",
    "\n",
    "for score_value in range(1, 6):\n",
    "    # Select data for the current score value\n",
    "    data_score = data[data['Score'] == score_value]\n",
    "    \n",
    "    # Calculate the sample size based on the desired number of samples\n",
    "    sample_size = min(desired_samples_per_score, len(data_score), len(data) // 5)\n",
    "    \n",
    "    # Sample data for the current score value\n",
    "    data_score = data_score.sample(sample_size, random_state=42)\n",
    "    \n",
    "    # Add the sampled examples to the list\n",
    "    balanced_subsets.append(data_score)\n",
    "\n",
    "data_balanced = pd.concat(balanced_subsets, ignore_index=True)\n",
    "\n",
    "data_balanced = data_balanced.sample(frac=1, random_state=42).reset_index(drop=True)\n"
   ]
  },
  {
   "cell_type": "code",
   "execution_count": 169,
   "id": "74c46584",
   "metadata": {},
   "outputs": [
    {
     "data": {
      "text/plain": [
       "5    9999\n",
       "4    7288\n",
       "1    4720\n",
       "3    4047\n",
       "2    2811\n",
       "Name: Score, dtype: int64"
      ]
     },
     "execution_count": 169,
     "metadata": {},
     "output_type": "execute_result"
    }
   ],
   "source": [
    "data_balanced['Score'].value_counts()"
   ]
  },
  {
   "cell_type": "code",
   "execution_count": 170,
   "id": "4f2b9b4f",
   "metadata": {},
   "outputs": [],
   "source": [
    "data_balanced['label'] = data_balanced['Score'].apply(lambda x: 1 if x > 3 else 0"
   ]
  },
  {
   "cell_type": "code",
   "execution_count": 174,
   "id": "ef5db340",
   "metadata": {},
   "outputs": [
    {
     "data": {
      "image/png": "[encoded data removed]",
      "text/plain": [
       "<Figure size 720x432 with 1 Axes>"
      ]
     },
     "metadata": {
      "needs_background": "light"
     },
     "output_type": "display_data"
    }
   ],
   "source": [
    "\n",
    "plt.figure(figsize=(10, 6))\n",
    "sns.violinplot(x='label', data=data_balanced, inner=\"quartile\")\n",
    "plt.title('Distribution of Scores')\n",
    "plt.show()"
   ]
  },
  {
   "cell_type": "code",
   "execution_count": null,
   "id": "c8850bac",
   "metadata": {},
   "outputs": [],
   "source": []
  },
  {
   "cell_type": "markdown",
   "id": "6e988bb8",
   "metadata": {},
   "source": [
    "# data cleaning"
   ]
  },
  {
   "cell_type": "code",
   "execution_count": 176,
   "id": "6a3481ac",
   "metadata": {},
   "outputs": [
    {
     "name": "stdout",
     "output_type": "stream",
     "text": [
      "The pattern ':\\)' is found at positions: [351, 174, 516, 217, 287, 556, 470, 107, 217, 631, 226, 81, 187, 113, 561, 526, 322, 184, 160, 159, 1685, 1205, 404, 647, 505, 1208, 1019, 380, 460, 543, 105, 1508, 96, 360, 204, 294, 955, 139, 239, 195, 405, 261, 353, 205, 845, 641, 229, 143, 271, 277, 371, 107, 335, 979, 205, 261, 93, 74, 583, 1868, 411, 228, 342, 1733, 495, 198, 263, 131, 458, 369, 60, 901, 1627, 590, 528, 306, 65, 394, 808, 1193, 124, 773, 720, 697, 670, 1191, 223, 455, 192, 399, 38, 459, 327, 173, 517, 47, 1508, 88, 269, 123, 126, 129, 89, 837, 286, 158, 359, 337, 544, 223, 1347, 2228, 156, 221, 382, 214, 534, 353, 244, 537, 113, 1092, 154, 262, 15, 88, 604, 175, 582, 111, 1277, 710, 205, 835, 132, 129, 128, 345, 631, 1097, 268, 228, 187, 234, 583, 384, 562, 509, 140, 87, 547, 147, 136, 175, 347, 239, 90, 227, 452, 3554, 88, 83, 191, 366, 645, 259, 187, 198, 487, 282, 618, 208, 840, 807, 239, 330, 287, 394, 113, 650, 738, 368, 1501, 807, 259, 460, 785, 1806, 373, 893, 145, 364, 268, 681, 1459, 674, 938, 398, 106, 725, 277, 460, 121, 117, 96, 231, 563, 324, 697, 2358, 82, 1405, 611, 448, 559, 350, 433, 499, 193, 408, 499, 548, 663, 427, 67, 507, 197, 174, 216, 116, 543, 261, 474, 671, 82, 276, 1093, 760, 1245, 1415, 717, 631, 1296, 205, 347, 312, 529, 453, 53, 309, 294, 1239, 547, 945, 205, 175, 203, 158, 97, 360, 45, 430, 674, 300, 807, 460, 543, 369, 80, 241, 120, 420, 450, 1416, 223, 103, 698, 439, 112, 237, 243, 884, 101, 262, 671, 870, 236, 844, 242, 342, 69, 252, 172, 136, 160, 229, 350, 2298, 109, 1286, 1316, 371, 303, 435, 318, 120, 311, 325, 297, 516, 4110, 687, 1685, 634, 164, 143, 136, 767, 611, 144, 330, 1317, 359, 1248, 266, 128, 117, 808, 1028, 83, 128, 1620, 195, 2848, 4151, 807, 1165, 122, 649, 952, 263, 1050, 221]\n",
      "The pattern ':\\(' is found at positions: [129, 362, 99, 830, 536, 121, 513, 317, 1247, 136, 641, 392, 724, 555, 1624, 371, 366, 346, 280, 150, 656, 720, 258, 300, 262, 498, 403, 165, 1187, 117, 67, 587, 1066, 186, 633, 372, 664, 429, 243, 1498, 836, 188, 239, 129, 398, 447, 416, 959, 124, 114, 959, 124, 142, 67, 212, 863, 351, 223, 109, 346, 1731, 605, 812, 67, 393, 972, 225, 408, 346, 554, 99, 385, 263, 619, 400, 378, 905, 180, 151, 187, 2157, 269, 201, 604, 149, 389]\n",
      "The pattern ':D' is found at positions: [506, 129, 519, 136, 358, 1541, 186, 114, 133, 375, 253, 317, 227, 544, 609, 2065, 924, 465]\n"
     ]
    }
   ],
   "source": [
    "patterns_to_find = [r':\\)', r':\\(', r':D']\n",
    "\n",
    "# Find occurrences in each text\n",
    "match_positions = {pattern: [match.start() for text in data_balanced['Text'] for match in re.finditer(pattern, text)] for pattern in patterns_to_find}\n",
    "\n",
    "# Check and print the results for each pattern\n",
    "for pattern, positions in match_positions.items():\n",
    "    if positions:\n",
    "        print(f\"The pattern '{pattern}' is found at positions: {positions}\")\n",
    "    else:\n",
    "        print(f\"The pattern '{pattern}' is not found in any text.\")\n"
   ]
  },
  {
   "cell_type": "code",
   "execution_count": 178,
   "id": "e87041e7",
   "metadata": {},
   "outputs": [
    {
     "data": {
      "text/plain": [
       "'Great real coconut young coconut taste. Not the usual overwhelming sweet taste seen on other coconut water canned drinks.  Good on the environment. Made in Brazil. Even better.  You can really taste the fruit labelled on the product besides the coconut water taste'"
      ]
     },
     "execution_count": 178,
     "metadata": {},
     "output_type": "execute_result"
    }
   ],
   "source": [
    "data_balanced['Text'][2]"
   ]
  },
  {
   "cell_type": "code",
   "execution_count": 179,
   "id": "e6994b1f",
   "metadata": {},
   "outputs": [],
   "source": [
    "patterns_to_remove = [r':\\)', r':\\(', r':D']\n",
    "\n",
    "data_balanced = data_balanced.drop_duplicates()\n",
    "def remove_patterns(text):\n",
    "    for pattern in patterns_to_remove:\n",
    "        text = re.sub(pattern, '', text)\n",
    "    return text\n"
   ]
  },
  {
   "cell_type": "code",
   "execution_count": 180,
   "id": "a28a656a",
   "metadata": {},
   "outputs": [],
   "source": [
    "def remove_urls(text):\n",
    "    url_pattern = re.compile(r'https?://\\S+|www\\.\\S+')\n",
    "    return url_pattern.sub(r'',text)\n",
    "\n",
    "def remove_htmltags(text):\n",
    "    html_pattern = re.compile(r'<.*?>')  \n",
    "    return html_pattern.sub('', text)\n",
    "\n",
    "def remove_extra_spaces_and_numbers(text):\n",
    "    text = ' '.join(text.split())\n",
    "    text = re.sub(r'\\d+', '', text)\n",
    "    return text\n",
    "\n",
    "\n",
    "\n",
    "def remove_punctuations(text):\n",
    "    translates = str.maketrans(\"\", \"\", string.punctuation)\n",
    "    return text.translate(translates)\n",
    "\n",
    "\n"
   ]
  },
  {
   "cell_type": "code",
   "execution_count": 82,
   "id": "1434b694",
   "metadata": {},
   "outputs": [
    {
     "name": "stdout",
     "output_type": "stream",
     "text": [
      "Requirement already satisfied: nltk in c:\\users\\user\\anaconda3\\lib\\site-packages (3.6.5)\n",
      "Requirement already satisfied: click in c:\\users\\user\\anaconda3\\lib\\site-packages (from nltk) (8.0.3)\n",
      "Requirement already satisfied: joblib in c:\\users\\user\\anaconda3\\lib\\site-packages (from nltk) (1.2.0)\n",
      "Requirement already satisfied: regex>=2021.8.3 in c:\\users\\user\\anaconda3\\lib\\site-packages (from nltk) (2021.8.3)\n",
      "Requirement already satisfied: tqdm in c:\\users\\user\\anaconda3\\lib\\site-packages (from nltk) (4.62.3)\n",
      "Requirement already satisfied: colorama in c:\\users\\user\\anaconda3\\lib\\site-packages (from click->nltk) (0.4.6)\n",
      "Note: you may need to restart the kernel to use updated packages.\n"
     ]
    },
    {
     "name": "stderr",
     "output_type": "stream",
     "text": [
      "\n",
      "[notice] A new release of pip is available: 23.1.2 -> 23.3.1\n",
      "[notice] To update, run: python.exe -m pip install --upgrade pip\n"
     ]
    }
   ],
   "source": [
    "pip install nltk"
   ]
  },
  {
   "cell_type": "code",
   "execution_count": 15,
   "id": "0ab739e0",
   "metadata": {},
   "outputs": [
    {
     "name": "stderr",
     "output_type": "stream",
     "text": [
      "[nltk_data] Downloading package stopwords to\n",
      "[nltk_data]     C:\\Users\\user\\AppData\\Roaming\\nltk_data...\n",
      "[nltk_data]   Package stopwords is already up-to-date!\n",
      "[nltk_data] Downloading package punkt to\n",
      "[nltk_data]     C:\\Users\\user\\AppData\\Roaming\\nltk_data...\n",
      "[nltk_data]   Package punkt is already up-to-date!\n"
     ]
    },
    {
     "data": {
      "text/plain": [
       "True"
      ]
     },
     "execution_count": 15,
     "metadata": {},
     "output_type": "execute_result"
    }
   ],
   "source": [
    "nltk.download('stopwords')\n",
    "nltk.download('punkt')"
   ]
  },
  {
   "cell_type": "code",
   "execution_count": 181,
   "id": "c1991fa0",
   "metadata": {},
   "outputs": [],
   "source": [
    "def remove_stopwords(text):\n",
    "    words = word_tokenize(text) # transfer the sentence into a list of words or tokens\n",
    "\n",
    "    # Remove stopwords\n",
    "    stop_words = set(stopwords.words('english')) #provides a set of common english stop words\n",
    "    filtered_words = [word for word in words if word.lower() not in stop_words] #filters out the stop words from the list of words it cheks if each word in lower case , is not the set of stopwords\n",
    "\n",
    "    cleaned_text = ' '.join(filtered_words)\n",
    "\n",
    "    return cleaned_text\n",
    "\n",
    "\n",
    "def lowercase(text):\n",
    "    return text.lower()\n",
    "\n"
   ]
  },
  {
   "cell_type": "code",
   "execution_count": 17,
   "id": "98c41ad6",
   "metadata": {},
   "outputs": [
    {
     "name": "stderr",
     "output_type": "stream",
     "text": [
      "[nltk_data] Downloading package punkt to\n",
      "[nltk_data]     C:\\Users\\user\\AppData\\Roaming\\nltk_data...\n",
      "[nltk_data]   Package punkt is already up-to-date!\n"
     ]
    },
    {
     "data": {
      "text/plain": [
       "True"
      ]
     },
     "execution_count": 17,
     "metadata": {},
     "output_type": "execute_result"
    }
   ],
   "source": [
    "nltk.download('punkt')"
   ]
  },
  {
   "cell_type": "markdown",
   "id": "169c6840",
   "metadata": {},
   "source": [
    "lemmatization to reduce the variety of the data "
   ]
  },
  {
   "cell_type": "code",
   "execution_count": 182,
   "id": "83ba0da8",
   "metadata": {},
   "outputs": [],
   "source": [
    "#the difference between stemming and lematization is that a stemming chopping off the last letters but lemmatization uses a vocabulary for a meaningful sentence\n",
    "\n",
    "def stem_text(text):\n",
    "    stemmer = PorterStemmer()\n",
    "\n",
    "    # Tokenize the text into words\n",
    "    words = word_tokenize(text)\n",
    "\n",
    "    # Stem each word\n",
    "    stemmed_words = [stemmer.stem(word) for word in words]\n",
    "\n",
    "    # Join the stemmed words back into a sentence\n",
    "    stemmed_text = ' '.join(stemmed_words)\n",
    "\n",
    "    return stemmed_text\n",
    "\n"
   ]
  },
  {
   "cell_type": "code",
   "execution_count": null,
   "id": "b23d3243",
   "metadata": {},
   "outputs": [],
   "source": []
  },
  {
   "cell_type": "markdown",
   "id": "e3396613",
   "metadata": {},
   "source": [
    "# Apply all the preprocessing functions "
   ]
  },
  {
   "cell_type": "code",
   "execution_count": null,
   "id": "34eedf9f",
   "metadata": {},
   "outputs": [],
   "source": []
  },
  {
   "cell_type": "code",
   "execution_count": 183,
   "id": "e638ffa3",
   "metadata": {},
   "outputs": [],
   "source": [
    "def clean_data(text):\n",
    "    return lowercase(stem_text(remove_extra_spaces_and_numbers(remove_urls(remove_htmltags(remove_punctuations(remove_stopwords(remove_patterns(text))))))))\n",
    "\n",
    "\n",
    "data_balanced['Text'] = data_balanced['Text'].apply(lambda text: clean_data(text))"
   ]
  },
  {
   "cell_type": "code",
   "execution_count": 184,
   "id": "6a6bb25f",
   "metadata": {},
   "outputs": [
    {
     "data": {
      "text/plain": [
       "'great real coconut young coconut tast usual overwhelm sweet tast seen coconut water can drink good environ made brazil even better realli tast fruit label product besid coconut water tast'"
      ]
     },
     "execution_count": 184,
     "metadata": {},
     "output_type": "execute_result"
    }
   ],
   "source": [
    "data_balanced['Text'][2]"
   ]
  },
  {
   "cell_type": "code",
   "execution_count": 185,
   "id": "32d317d9",
   "metadata": {},
   "outputs": [
    {
     "data": {
      "image/png": "[encoded data removed]",
      "text/plain": [
       "<Figure size 720x432 with 1 Axes>"
      ]
     },
     "metadata": {
      "needs_background": "light"
     },
     "output_type": "display_data"
    }
   ],
   "source": [
    "from collections import Counter\n",
    "# Concatenate all the text in the specified column\n",
    "text = ' '.join(data_balanced['Text'])\n",
    "\n",
    "# Tokenize the text into words\n",
    "words = text.split()\n",
    "\n",
    "# Count the occurrences of each word\n",
    "word_counts = Counter(words)\n",
    "\n",
    "# Convert the Counter to a DataFrame\n",
    "df_word_counts = pd.DataFrame(list(word_counts.items()), columns=['Word', 'Count'])\n",
    "\n",
    "# Sort the DataFrame by Count in descending order\n",
    "df_word_counts = df_word_counts.sort_values(by='Count', ascending=False)\n",
    "\n",
    "\n",
    "plt.figure(figsize=(10, 6))\n",
    "sns.barplot(x='Word', y='Count', data=df_word_counts.head(50), palette='viridis')\n",
    "plt.title('Top 10 Most Frequent Words')\n",
    "plt.xticks(rotation=45, ha='right')\n",
    "plt.show()\n"
   ]
  },
  {
   "cell_type": "code",
   "execution_count": 153,
   "id": "9f6fca7b",
   "metadata": {},
   "outputs": [],
   "source": []
  },
  {
   "cell_type": "markdown",
   "id": "eab656bb",
   "metadata": {},
   "source": [
    "# Text vectorization Fast Text Model"
   ]
  },
  {
   "cell_type": "code",
   "execution_count": 1,
   "id": "0a663b08",
   "metadata": {},
   "outputs": [
    {
     "name": "stdout",
     "output_type": "stream",
     "text": [
      "Requirement already satisfied: fasttext in c:\\users\\user\\appdata\\roaming\\python\\python39\\site-packages (0.9.2)Note: you may need to restart the kernel to use updated packages.\n",
      "Requirement already satisfied: pybind11>=2.2 in c:\\users\\user\\anaconda3\\lib\\site-packages (from fasttext) (2.11.1)\n",
      "Requirement already satisfied: setuptools>=0.7.0 in c:\\users\\user\\anaconda3\\lib\\site-packages (from fasttext) (69.0.2)\n",
      "Requirement already satisfied: numpy in c:\\users\\user\\anaconda3\\lib\\site-packages (from fasttext) (1.26.2)\n",
      "\n"
     ]
    },
    {
     "name": "stderr",
     "output_type": "stream",
     "text": [
      "\n",
      "[notice] A new release of pip is available: 23.1.2 -> 23.3.1\n",
      "[notice] To update, run: python.exe -m pip install --upgrade pip\n"
     ]
    }
   ],
   "source": [
    "pip install fasttext"
   ]
  },
  {
   "cell_type": "code",
   "execution_count": 48,
   "id": "05581699",
   "metadata": {},
   "outputs": [
    {
     "name": "stdout",
     "output_type": "stream",
     "text": [
      "Collecting gensim\n",
      "  Using cached gensim-4.3.2-cp39-cp39-win_amd64.whl (24.0 MB)\n",
      "Requirement already satisfied: numpy>=1.18.5 in c:\\users\\user\\anaconda3\\lib\\site-packages (from gensim) (1.22.4)\n",
      "Requirement already satisfied: scipy>=1.7.0 in c:\\users\\user\\anaconda3\\lib\\site-packages (from gensim) (1.7.1)\n",
      "Requirement already satisfied: smart-open>=1.8.1 in c:\\users\\user\\anaconda3\\lib\\site-packages (from gensim) (6.4.0)\n",
      "Installing collected packages: gensim\n",
      "Successfully installed gensim-4.3.2\n",
      "Note: you may need to restart the kernel to use updated packages.\n"
     ]
    },
    {
     "name": "stderr",
     "output_type": "stream",
     "text": [
      "\n",
      "[notice] A new release of pip is available: 23.1.2 -> 23.3.1\n",
      "[notice] To update, run: python.exe -m pip install --upgrade pip\n"
     ]
    }
   ],
   "source": [
    "pip install gensim "
   ]
  },
  {
   "cell_type": "code",
   "execution_count": null,
   "id": "d1ea9ef8",
   "metadata": {},
   "outputs": [],
   "source": []
  },
  {
   "cell_type": "code",
   "execution_count": null,
   "id": "599a656b",
   "metadata": {},
   "outputs": [],
   "source": []
  },
  {
   "cell_type": "code",
   "execution_count": 214,
   "id": "9f529fe7",
   "metadata": {},
   "outputs": [],
   "source": [
    "\n",
    "text_data = data_balanced['Text'].tolist()\n",
    "target_data = data_balanced['label'].tolist()\n",
    "\n",
    "\n",
    "tokenized_data = [simple_preprocess(text) for text in text_data]\n",
    "\n",
    "model = FastText(sentences=tokenized_data, vector_size=100, window=5, min_count=1, workers=4, sg=1)\n",
    "\n",
    "# Initialize an empty list to store the embeddings\n",
    "embedding_data = []\n",
    "\n",
    "# Loop through each text in the original data\n",
    "for text in text_data:\n",
    "\n",
    "    tokens = simple_preprocess(text)\n",
    "    \n",
    "    # Get word vectors for each token and filter out tokens not in the vocabulary\n",
    "    vectors = [model.wv[token] for token in tokens if token in model.wv]\n",
    "    \n",
    "    # If there are vectors, compute the mean vector and append to the list\n",
    "    if vectors:\n",
    "        mean_vector = sum(vectors) / len(vectors)\n",
    "        embedding_data.append(mean_vector)\n",
    "    else:\n",
    "        # If no vectors found (all tokens out of vocabulary), append a zero vector\n",
    "        embedding_data.append([0.0] * model.vector_size)\n",
    "\n",
    "embedding_data = np.array(embedding_data)\n"
   ]
  },
  {
   "cell_type": "markdown",
   "id": "f0bad3b3",
   "metadata": {},
   "source": [
    "## Split the data"
   ]
  },
  {
   "cell_type": "code",
   "execution_count": 215,
   "id": "d7f2e1ff",
   "metadata": {},
   "outputs": [],
   "source": [
    "X_train, X_test, y_train, y_test = train_test_split(embedding_data, target_data, test_size=0.2, random_state=42)"
   ]
  },
  {
   "cell_type": "code",
   "execution_count": null,
   "id": "63483ad7",
   "metadata": {},
   "outputs": [],
   "source": []
  },
  {
   "cell_type": "markdown",
   "id": "6efaf44d",
   "metadata": {},
   "source": [
    "# building the logistic regression model"
   ]
  },
  {
   "cell_type": "code",
   "execution_count": 216,
   "id": "32932999",
   "metadata": {},
   "outputs": [
    {
     "name": "stderr",
     "output_type": "stream",
     "text": [
      "C:\\Users\\user\\anaconda3\\lib\\site-packages\\sklearn\\linear_model\\_logistic.py:458: ConvergenceWarning:\n",
      "\n",
      "lbfgs failed to converge (status=1):\n",
      "STOP: TOTAL NO. of ITERATIONS REACHED LIMIT.\n",
      "\n",
      "Increase the number of iterations (max_iter) or scale the data as shown in:\n",
      "    https://scikit-learn.org/stable/modules/preprocessing.html\n",
      "Please also refer to the documentation for alternative solver options:\n",
      "    https://scikit-learn.org/stable/modules/linear_model.html#logistic-regression\n",
      "\n"
     ]
    },
    {
     "data": {
      "text/html": [
       "<style>#sk-container-id-7 {color: black;background-color: white;}#sk-container-id-7 pre{padding: 0;}#sk-container-id-7 div.sk-toggleable {background-color: white;}#sk-container-id-7 label.sk-toggleable__label {cursor: pointer;display: block;width: 100%;margin-bottom: 0;padding: 0.3em;box-sizing: border-box;text-align: center;}#sk-container-id-7 label.sk-toggleable__label-arrow:before {content: \"▸\";float: left;margin-right: 0.25em;color: #696969;}#sk-container-id-7 label.sk-toggleable__label-arrow:hover:before {color: black;}#sk-container-id-7 div.sk-estimator:hover label.sk-toggleable__label-arrow:before {color: black;}#sk-container-id-7 div.sk-toggleable__content {max-height: 0;max-width: 0;overflow: hidden;text-align: left;background-color: #f0f8ff;}#sk-container-id-7 div.sk-toggleable__content pre {margin: 0.2em;color: black;border-radius: 0.25em;background-color: #f0f8ff;}#sk-container-id-7 input.sk-toggleable__control:checked~div.sk-toggleable__content {max-height: 200px;max-width: 100%;overflow: auto;}#sk-container-id-7 input.sk-toggleable__control:checked~label.sk-toggleable__label-arrow:before {content: \"▾\";}#sk-container-id-7 div.sk-estimator input.sk-toggleable__control:checked~label.sk-toggleable__label {background-color: #d4ebff;}#sk-container-id-7 div.sk-label input.sk-toggleable__control:checked~label.sk-toggleable__label {background-color: #d4ebff;}#sk-container-id-7 input.sk-hidden--visually {border: 0;clip: rect(1px 1px 1px 1px);clip: rect(1px, 1px, 1px, 1px);height: 1px;margin: -1px;overflow: hidden;padding: 0;position: absolute;width: 1px;}#sk-container-id-7 div.sk-estimator {font-family: monospace;background-color: #f0f8ff;border: 1px dotted black;border-radius: 0.25em;box-sizing: border-box;margin-bottom: 0.5em;}#sk-container-id-7 div.sk-estimator:hover {background-color: #d4ebff;}#sk-container-id-7 div.sk-parallel-item::after {content: \"\";width: 100%;border-bottom: 1px solid gray;flex-grow: 1;}#sk-container-id-7 div.sk-label:hover label.sk-toggleable__label {background-color: #d4ebff;}#sk-container-id-7 div.sk-serial::before {content: \"\";position: absolute;border-left: 1px solid gray;box-sizing: border-box;top: 0;bottom: 0;left: 50%;z-index: 0;}#sk-container-id-7 div.sk-serial {display: flex;flex-direction: column;align-items: center;background-color: white;padding-right: 0.2em;padding-left: 0.2em;position: relative;}#sk-container-id-7 div.sk-item {position: relative;z-index: 1;}#sk-container-id-7 div.sk-parallel {display: flex;align-items: stretch;justify-content: center;background-color: white;position: relative;}#sk-container-id-7 div.sk-item::before, #sk-container-id-7 div.sk-parallel-item::before {content: \"\";position: absolute;border-left: 1px solid gray;box-sizing: border-box;top: 0;bottom: 0;left: 50%;z-index: -1;}#sk-container-id-7 div.sk-parallel-item {display: flex;flex-direction: column;z-index: 1;position: relative;background-color: white;}#sk-container-id-7 div.sk-parallel-item:first-child::after {align-self: flex-end;width: 50%;}#sk-container-id-7 div.sk-parallel-item:last-child::after {align-self: flex-start;width: 50%;}#sk-container-id-7 div.sk-parallel-item:only-child::after {width: 0;}#sk-container-id-7 div.sk-dashed-wrapped {border: 1px dashed gray;margin: 0 0.4em 0.5em 0.4em;box-sizing: border-box;padding-bottom: 0.4em;background-color: white;}#sk-container-id-7 div.sk-label label {font-family: monospace;font-weight: bold;display: inline-block;line-height: 1.2em;}#sk-container-id-7 div.sk-label-container {text-align: center;}#sk-container-id-7 div.sk-container {/* jupyter's `normalize.less` sets `[hidden] { display: none; }` but bootstrap.min.css set `[hidden] { display: none !important; }` so we also need the `!important` here to be able to override the default hidden behavior on the sphinx rendered scikit-learn.org. See: https://github.com/scikit-learn/scikit-learn/issues/21755 */display: inline-block !important;position: relative;}#sk-container-id-7 div.sk-text-repr-fallback {display: none;}</style><div id=\"sk-container-id-7\" class=\"sk-top-container\"><div class=\"sk-text-repr-fallback\"><pre>LogisticRegression()</pre><b>In a Jupyter environment, please rerun this cell to show the HTML representation or trust the notebook. <br />On GitHub, the HTML representation is unable to render, please try loading this page with nbviewer.org.</b></div><div class=\"sk-container\" hidden><div class=\"sk-item\"><div class=\"sk-estimator sk-toggleable\"><input class=\"sk-toggleable__control sk-hidden--visually\" id=\"sk-estimator-id-7\" type=\"checkbox\" checked><label for=\"sk-estimator-id-7\" class=\"sk-toggleable__label sk-toggleable__label-arrow\">LogisticRegression</label><div class=\"sk-toggleable__content\"><pre>LogisticRegression()</pre></div></div></div></div></div>"
      ],
      "text/plain": [
       "LogisticRegression()"
      ]
     },
     "execution_count": 216,
     "metadata": {},
     "output_type": "execute_result"
    }
   ],
   "source": [
    "model_2 = LogisticRegression()\n",
    "model_2.fit(X_train, y_train)"
   ]
  },
  {
   "cell_type": "code",
   "execution_count": 217,
   "id": "7c6a8d37",
   "metadata": {},
   "outputs": [
    {
     "name": "stdout",
     "output_type": "stream",
     "text": [
      "Accuracy: 0.7928286852589641\n",
      "Classification Report:\n",
      "              precision    recall  f1-score   support\n",
      "\n",
      "           0       0.77      0.70      0.73      2326\n",
      "           1       0.81      0.86      0.83      3447\n",
      "\n",
      "    accuracy                           0.79      5773\n",
      "   macro avg       0.79      0.78      0.78      5773\n",
      "weighted avg       0.79      0.79      0.79      5773\n",
      "\n"
     ]
    }
   ],
   "source": [
    "\n",
    "y_pred = model_2.predict(X_test)\n",
    "\n",
    "accuracy = accuracy_score(y_test, y_pred)\n",
    "classification_report_result = classification_report(y_test, y_pred)\n",
    "\n",
    "print(f\"Accuracy: {accuracy}\")\n",
    "print(\"Classification Report:\")\n",
    "print(classification_report_result)"
   ]
  },
  {
   "cell_type": "markdown",
   "id": "ffb3486e",
   "metadata": {},
   "source": [
    "# CNN model"
   ]
  },
  {
   "cell_type": "code",
   "execution_count": null,
   "id": "9201ae10",
   "metadata": {},
   "outputs": [],
   "source": [
    "#if your labels are binary (0 or 1), you should use binary cross-entropy as the loss function, not sparse categorical cross-entropy."
   ]
  },
  {
   "cell_type": "code",
   "execution_count": 218,
   "id": "825539ee",
   "metadata": {
    "scrolled": true
   },
   "outputs": [
    {
     "name": "stdout",
     "output_type": "stream",
     "text": [
      "Epoch 1/30\n",
      "722/722 [==============================] - 12s 13ms/step - loss: 0.6679 - accuracy: 0.5986 - val_loss: 0.6519 - val_accuracy: 0.5971\n",
      "Epoch 2/30\n",
      "722/722 [==============================] - 8s 11ms/step - loss: 0.6272 - accuracy: 0.6391 - val_loss: 0.5919 - val_accuracy: 0.6860\n",
      "Epoch 3/30\n",
      "722/722 [==============================] - 9s 12ms/step - loss: 0.5869 - accuracy: 0.6946 - val_loss: 0.5765 - val_accuracy: 0.7097\n",
      "Epoch 4/30\n",
      "722/722 [==============================] - 8s 12ms/step - loss: 0.5693 - accuracy: 0.7056 - val_loss: 0.5503 - val_accuracy: 0.7275\n",
      "Epoch 5/30\n",
      "722/722 [==============================] - 9s 12ms/step - loss: 0.5601 - accuracy: 0.7115 - val_loss: 0.5386 - val_accuracy: 0.7336\n",
      "Epoch 6/30\n",
      "722/722 [==============================] - 9s 12ms/step - loss: 0.5571 - accuracy: 0.7174 - val_loss: 0.5372 - val_accuracy: 0.7376\n",
      "Epoch 7/30\n",
      "722/722 [==============================] - 9s 12ms/step - loss: 0.5515 - accuracy: 0.7209 - val_loss: 0.5364 - val_accuracy: 0.7362\n",
      "Epoch 8/30\n",
      "722/722 [==============================] - 9s 12ms/step - loss: 0.5463 - accuracy: 0.7247 - val_loss: 0.5429 - val_accuracy: 0.7202\n",
      "Epoch 9/30\n",
      "722/722 [==============================] - 9s 12ms/step - loss: 0.5428 - accuracy: 0.7299 - val_loss: 0.5293 - val_accuracy: 0.7400\n",
      "Epoch 10/30\n",
      "722/722 [==============================] - 9s 12ms/step - loss: 0.5421 - accuracy: 0.7233 - val_loss: 0.5415 - val_accuracy: 0.7222\n",
      "Epoch 11/30\n",
      "722/722 [==============================] - 9s 12ms/step - loss: 0.5390 - accuracy: 0.7292 - val_loss: 0.5237 - val_accuracy: 0.7450\n",
      "Epoch 12/30\n",
      "722/722 [==============================] - 9s 12ms/step - loss: 0.5404 - accuracy: 0.7300 - val_loss: 0.5341 - val_accuracy: 0.7384\n",
      "Epoch 13/30\n",
      "722/722 [==============================] - 9s 12ms/step - loss: 0.5367 - accuracy: 0.7322 - val_loss: 0.5177 - val_accuracy: 0.7450\n",
      "Epoch 14/30\n",
      "722/722 [==============================] - 9s 12ms/step - loss: 0.5358 - accuracy: 0.7306 - val_loss: 0.5192 - val_accuracy: 0.7435\n",
      "Epoch 15/30\n",
      "722/722 [==============================] - 8s 12ms/step - loss: 0.5349 - accuracy: 0.7329 - val_loss: 0.5321 - val_accuracy: 0.7329\n",
      "Epoch 16/30\n",
      "722/722 [==============================] - 9s 13ms/step - loss: 0.5334 - accuracy: 0.7335 - val_loss: 0.5561 - val_accuracy: 0.7022\n",
      "Epoch 17/30\n",
      "722/722 [==============================] - 8s 12ms/step - loss: 0.5320 - accuracy: 0.7340 - val_loss: 0.5238 - val_accuracy: 0.7353\n",
      "Epoch 18/30\n",
      "722/722 [==============================] - 9s 12ms/step - loss: 0.5335 - accuracy: 0.7316 - val_loss: 0.5269 - val_accuracy: 0.7464\n",
      "Epoch 19/30\n",
      "722/722 [==============================] - 9s 12ms/step - loss: 0.5279 - accuracy: 0.7354 - val_loss: 0.5183 - val_accuracy: 0.7429\n",
      "Epoch 20/30\n",
      "722/722 [==============================] - 9s 12ms/step - loss: 0.5290 - accuracy: 0.7357 - val_loss: 0.5190 - val_accuracy: 0.7480\n",
      "Epoch 21/30\n",
      "722/722 [==============================] - 9s 12ms/step - loss: 0.5269 - accuracy: 0.7375 - val_loss: 0.5205 - val_accuracy: 0.7461\n",
      "Epoch 22/30\n",
      "722/722 [==============================] - 9s 12ms/step - loss: 0.5232 - accuracy: 0.7398 - val_loss: 0.5229 - val_accuracy: 0.7422\n",
      "Epoch 23/30\n",
      "722/722 [==============================] - 9s 12ms/step - loss: 0.5272 - accuracy: 0.7366 - val_loss: 0.5271 - val_accuracy: 0.7428\n",
      "Epoch 24/30\n",
      "722/722 [==============================] - 8s 12ms/step - loss: 0.5239 - accuracy: 0.7385 - val_loss: 0.5083 - val_accuracy: 0.7507\n",
      "Epoch 25/30\n",
      "722/722 [==============================] - 9s 13ms/step - loss: 0.5264 - accuracy: 0.7380 - val_loss: 0.5179 - val_accuracy: 0.7364\n",
      "Epoch 26/30\n",
      "722/722 [==============================] - 8s 12ms/step - loss: 0.5232 - accuracy: 0.7425 - val_loss: 0.5180 - val_accuracy: 0.7429\n",
      "Epoch 27/30\n",
      "722/722 [==============================] - 9s 12ms/step - loss: 0.5246 - accuracy: 0.7408 - val_loss: 0.5118 - val_accuracy: 0.7519\n",
      "Epoch 28/30\n",
      "722/722 [==============================] - 9s 12ms/step - loss: 0.5220 - accuracy: 0.7404 - val_loss: 0.5391 - val_accuracy: 0.7187\n",
      "Epoch 29/30\n",
      "722/722 [==============================] - 9s 12ms/step - loss: 0.5233 - accuracy: 0.7362 - val_loss: 0.5291 - val_accuracy: 0.7339\n",
      "Epoch 30/30\n",
      "722/722 [==============================] - 9s 12ms/step - loss: 0.5195 - accuracy: 0.7436 - val_loss: 0.5110 - val_accuracy: 0.7433\n",
      "181/181 [==============================] - 1s 4ms/step - loss: 0.5110 - accuracy: 0.7433\n",
      "Test Loss: 0.5109951496124268, Test Accuracy: 0.7432877421379089\n"
     ]
    }
   ],
   "source": [
    "\n",
    "y_train = np.array(y_train)\n",
    "y_test = np.array(y_test)\n",
    "\n",
    "\n",
    "model_1 = Sequential()\n",
    "model_1.add(Conv1D(128, 5, activation='relu', input_shape=(100, 1)))\n",
    "model_1.add(GlobalMaxPooling1D())\n",
    "model_1.add(Dense(64, activation='relu'))\n",
    "model_1.add(Dropout(0.5))\n",
    "model_1.add(Dense(1, activation='sigmoid'))  #  'sigmoid' for binary classification and' to produce probability scores between 0 and 1.\n",
    "\n",
    "\n",
    "model_1.compile(optimizer=Adam(), loss='binary_crossentropy', metrics=['accuracy'])\n",
    "\n",
    "# Reshape X_train and X_test to match the input shape of the model\n",
    "X_train1 = X_train.reshape((X_train.shape[0], X_train.shape[1], 1))\n",
    "X_test1 = X_test.reshape((X_test.shape[0], X_test.shape[1], 1))\n",
    "\n",
    "\n",
    "model_1.fit(X_train1, y_train, epochs=30, batch_size=32, validation_data=(X_test1, y_test))\n",
    "\n",
    "\n",
    "loss, accuracy = model_1.evaluate(X_test1, y_test)\n",
    "print(f'Test Loss: {loss}, Test Accuracy: {accuracy}')\n"
   ]
  },
  {
   "cell_type": "code",
   "execution_count": 219,
   "id": "dcb8d521",
   "metadata": {},
   "outputs": [
    {
     "name": "stdout",
     "output_type": "stream",
     "text": [
      "Classification Report:\n",
      "              precision    recall  f1-score   support\n",
      "\n",
      "           0       0.67      0.73      0.70      2326\n",
      "           1       0.80      0.75      0.78      3447\n",
      "\n",
      "    accuracy                           0.74      5773\n",
      "   macro avg       0.74      0.74      0.74      5773\n",
      "weighted avg       0.75      0.74      0.74      5773\n",
      "\n"
     ]
    }
   ],
   "source": [
    "from sklearn.metrics import classification_report\n",
    "\n",
    "y_pred_prob = model_1.predict(X_test1)\n",
    "y_pred_classes = (y_pred_prob > 0.5).astype(int)  # Convert probabilities to binary classes (0 or 1)\n",
    "\n",
    "classification_report_result = classification_report(y_test, y_pred_classes)\n",
    "\n",
    "print(\"Classification Report:\")\n",
    "print(classification_report_result)\n"
   ]
  },
  {
   "cell_type": "code",
   "execution_count": 220,
   "id": "29e4376d",
   "metadata": {},
   "outputs": [
    {
     "data": {
      "image/png": "[encoded data removed]",
      "text/plain": [
       "<Figure size 576x432 with 2 Axes>"
      ]
     },
     "metadata": {
      "needs_background": "light"
     },
     "output_type": "display_data"
    }
   ],
   "source": [
    "\n",
    "conf_matrix = confusion_matrix(y_test, y_pred_classes)\n",
    "\n",
    "\n",
    "plt.figure(figsize=(8, 6))\n",
    "sns.heatmap(conf_matrix, annot=True, fmt=\"d\", cmap=\"Oranges\", xticklabels=[0, 1], yticklabels=[0, 1])\n",
    "plt.title('Confusion Matrix')\n",
    "plt.xlabel('Predicted Labels')\n",
    "plt.ylabel('True Labels')\n",
    "plt.show()\n"
   ]
  },
  {
   "cell_type": "code",
   "execution_count": 235,
   "id": "2692c8b2",
   "metadata": {},
   "outputs": [],
   "source": [
    "from keras.models import load_model\n",
    "\n",
    "model_1.save(\"model_1.h5\")\n",
    "\n",
    "\n",
    "def load_model():\n",
    "    model = load_model(\"model_1.h5\")\n",
    "   \n",
    "    return model"
   ]
  },
  {
   "cell_type": "markdown",
   "id": "4de616d3",
   "metadata": {},
   "source": [
    "# test the model "
   ]
  },
  {
   "cell_type": "code",
   "execution_count": 234,
   "id": "ad1d50c6",
   "metadata": {},
   "outputs": [
    {
     "name": "stdout",
     "output_type": "stream",
     "text": [
      "Original Text: i dont love the food!!!\n",
      "Cleaned Text: dont love food\n",
      "The model predicts: Negative\n"
     ]
    }
   ],
   "source": [
    "\n",
    "example_text = \"i dont love the food!!!\"\n",
    "\n",
    "cleaned_example = clean_data(example_text)\n",
    "print(\"Original Text:\", example_text)\n",
    "print(\"Cleaned Text:\", cleaned_example)\n",
    "\n",
    "\n",
    "tokenized_example = simple_preprocess(example_text)\n",
    "\n",
    "example_embedding = []\n",
    "\n",
    "# Loop through each token in the tokenized example\n",
    "for token in tokenized_example:\n",
    "    # Get the word vector for each token from the trained FastText model\n",
    "    vector = model.wv[token] if token in model.wv else [0.0] * model.vector_size\n",
    "    \n",
    "    # Append the vector to the list\n",
    "    example_embedding.append(vector)\n",
    "\n",
    "# If there are vectors, compute the mean vector for the example\n",
    "if example_embedding:\n",
    "    mean_example_vector = np.mean(example_embedding, axis=0)\n",
    "else:\n",
    "    # If no vectors found (all tokens out of vocabulary), use a zero vector\n",
    "    mean_example_vector = [0.0] * model.vector_size\n",
    "\n",
    "# Convert the mean example vector to a NumPy array\n",
    "example_data = np.array(mean_example_vector)\n",
    "\n",
    "# Reshape the example data if needed\n",
    "example_data = example_data.reshape((1, example_data.shape[0], 1))\n",
    "\n",
    "\n",
    "predicted_prob = model_1.predict(example_data)\n",
    "predicted_class = (predicted_prob > 0.5).astype(int)\n",
    "\n",
    "\n",
    "if predicted_class[0][0] == 1:\n",
    "    print(\"The model predicts: Positive\")\n",
    "else:\n",
    "    print(\"The model predicts: Negative\")\n"
   ]
  },
  {
   "cell_type": "code",
   "execution_count": null,
   "id": "ce3374c0",
   "metadata": {},
   "outputs": [],
   "source": []
  }
 ],
 "metadata": {
  "kernelspec": {
   "display_name": "Python 3 (ipykernel)",
   "language": "python",
   "name": "python3"
  },
  "language_info": {
   "codemirror_mode": {
    "name": "ipython",
    "version": 3
   },
   "file_extension": ".py",
   "mimetype": "text/x-python",
   "name": "python",
   "nbconvert_exporter": "python",
   "pygments_lexer": "ipython3",
   "version": "3.10.0"
  }
 },
 "nbformat": 4,
 "nbformat_minor": 5
}
